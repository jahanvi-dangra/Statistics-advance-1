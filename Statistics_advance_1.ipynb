{
  "nbformat": 4,
  "nbformat_minor": 0,
  "metadata": {
    "colab": {
      "provenance": []
    },
    "kernelspec": {
      "name": "python3",
      "display_name": "Python 3"
    },
    "language_info": {
      "name": "python"
    }
  },
  "cells": [
    {
      "cell_type": "markdown",
      "source": [
        "*Question 1: What is a random variable in probability theory?*\n",
        "\n",
        "In probability theory, a **random** **variable** is a function that assigns a numeric value to each outcome in a sample space of a random experiment.\n",
        "It is of two types: Discrete and continuous.\n",
        "\n",
        "For example:\n",
        "\n",
        "Tossing a coin\n",
        "- The sample space is { Heads, Tails }\n",
        "- A random variable x could be defined as:\n",
        "\n",
        " x (Head) = 1\n",
        "\n",
        " x (Tail) = 0\n",
        "\n",
        "Applications of random variables:\n",
        "-  Statistics: Used to model data and make predictions\n",
        "-  Economic: Modeling uncertain market conditions\n",
        "-  Engineering: Reliability and quality control\n",
        "-  Computer science: Algorithms and simulations.\n",
        "\n"
      ],
      "metadata": {
        "id": "AYdLrir2yA3b"
      }
    },
    {
      "cell_type": "markdown",
      "source": [
        "*Question 2: What are the types of random variables?*\n",
        "\n",
        "A random variable is a function that assigns a real number to each outcome in the sample space of a random experiment.\n",
        "\n",
        "There are two main types of random variable:\n",
        "\n",
        "-  Discrete random variable\n",
        "\n",
        "-  Continuous random variable\n",
        "\n",
        "1) *Discrete random variable* :\n",
        "\n",
        " A discrete random variable can take on a finite or countably infinite number of distinct values.\n",
        "\n",
        " Characteristics:\n",
        " - Values can be listed or counted.\n",
        " - Associated with probability mass function (PMF)\n",
        " - Probability of each outcome is greater than or equal to 0, and the sum of all the probabilities is 1\n",
        "  \n",
        "For example:\n",
        "- Tossing a coin: Let x = 1 for heads and x = 0 for tails\n",
        "\n",
        "- Rolling a dice: Let x be the numbers that appears, possible values are 1, 2, 3, 4, 5, 6.\n",
        "\n",
        "- Number of students in a class: x could be 20, 21, 22, etc.\n",
        "\n",
        "2) *Continuous random variable* :\n",
        "\n",
        "A continuous random variable can take on any real value within a given interval or set of intervals.\n",
        "\n",
        "Charateristics:\n",
        "- Values are uncountable or lie on a continuum\n",
        "- It is described using a probability density function (PDF)\n",
        "- The probability of variable taking any specific value is zero\n",
        "- The total area under the curve of the PDF is equal to 1.\n",
        "\n",
        "For example:\n",
        "\n",
        "- Height of a person (e.g, 160cm, 160.2cm, 172cm, etc.)\n",
        "- Time taken to complete a task (e.g, 12.1 sec, 12.11..)\n",
        "- Temperature at a specific time (e.g, 25.6°C)\n",
        "\n",
        "Note: A bell-shaped curve (normal distribution) where the area under the curve between two points gives the probability.\n",
        "\n",
        ""
      ],
      "metadata": {
        "id": "fWG2zoHFoBf_"
      }
    },
    {
      "cell_type": "markdown",
      "source": [
        "*Question 3: Explain the difference between discrete and continuous distributions*.\n",
        "\n",
        "| Feature                       | Discrete Distribution           | Continuous Distribution                  |\n",
        "| ----------------------------- | ------------------------------- | ---------------------------------------- |\n",
        "| Type of variable              | Discrete random variable        | Continuous random variable               |\n",
        "| Possible values               | Countable (finite or infinite)  | Uncountable (infinite within a range)    |\n",
        "| Probability of exact value    | Greater than zero               | Exactly zero                             |\n",
        "| Represented by                | Probability Mass Function (PMF) | Probability Density Function (PDF)       |\n",
        "| Example                       | Number of students in a class   | Weight of a person                       |\n",
        "| Method of finding probability | Sum of individual probabilities | Area under the curve in a given interval |\n"
      ],
      "metadata": {
        "id": "hkSdDS4wtiTT"
      }
    },
    {
      "cell_type": "markdown",
      "source": [
        "*Question 4: What is a binomial distribution, and how is it used in probability?*\n",
        "\n",
        "- A binomial distribution is a discrete probability distribution that models the number of successes in a fixed number of independent trials, where each trial has exactly two possible outcomes: success or failure.\n",
        "\n",
        "- It is called \"binomial\" because it is based on repeated trials of a Bernoulli experiment (which has two outcomes).\n",
        "\n",
        "A random experiment follows a binomial distribution if it satisfies the following conditions:\n",
        "- Fixed number of trials (n)\n",
        "- Each trial has only two outcomes: success (S) or failure (F)\n",
        "- The probability of success (p) remains constant for all trials\n",
        "- Trials are independent of each other\n",
        "- The variable of interest is the number of successes (x) in those trials\n",
        "\n",
        "Probability formula:\n",
        "\n",
        "                       P(X=x)=(x n​)px(1−p)n−x\n",
        "\n",
        "n = number of trials\n",
        "\n",
        "𝑥\n",
        "x = number of successes\n",
        "\n",
        "𝑝\n",
        "p = probability of success on a single trial\n",
        "\n",
        "1\n",
        "−\n",
        "𝑝\n",
        "1−p = probability of failure\n",
        "\n",
        "(\n",
        "𝑛\n",
        "𝑥\n",
        ")\n",
        "(\n",
        "x\n",
        "n\n",
        "\t​\n",
        "\n",
        ") = combinations =\n",
        "𝑛\n",
        "!\n",
        "𝑥\n",
        "!\n",
        "(\n",
        "𝑛\n",
        "−\n",
        "𝑥\n",
        ")\n",
        "!\n",
        "x!(n−x)!\n",
        "n!\n",
        "\n",
        "Example:\t​\n",
        "Tossing a fair coin 5 times\n",
        "\n",
        "Applications of binomial distributions in probability:\n",
        "- Quality control: Finding the probability that a certain number of products in a batch are defective.\n",
        "- Elections: Estimating the chance that a candidate receives a fixed number of votes.\n",
        "- Medical trials: Estimating how many patients will respond positively to a new treatment\n",
        "- Surveys: Calculating the number of people who will respond \"yes\" to a certain question.\n",
        "\n"
      ],
      "metadata": {
        "id": "GuBbd2YwuGyl"
      }
    },
    {
      "cell_type": "markdown",
      "source": [
        "*Question 5: What is the standard normal distribution, and why is it important?*\n",
        "\n",
        "The standard normal distribution is a special case of the normal distribution. It is a continuous probability distribution that is symmetric and bell-shaped, centered around a mean of 0 and with a standard deviation of 1.\n",
        "\n",
        "It is denoted as:\n",
        "\n",
        "                    Z∼N(0,1)\n",
        "\n",
        "Why is it important:\n",
        "\n",
        "The standard normal distribution plays a critical role in statistics and probability for several reasons:\n",
        "- Basis for statistical inference: It allows us to calculate probabilities, make predictions, conduct hypothesis testing.\n",
        "- Z-scores and standardization\n",
        "- Use of standard normal table(z-table)\n",
        "- Foundational in hypothesis testing"
      ],
      "metadata": {
        "id": "0Xgcfg778cFS"
      }
    },
    {
      "cell_type": "markdown",
      "source": [
        "*Question 6: What is the Central Limit Theorem (CLT), and why is it critical in statistics?*\n",
        "\n",
        "The Central Limit Theorem (CLT) is one of the most important and powerful concepts in statistics. It states that:\n",
        "\n",
        "When a large number of independent random samples are taken from any population with a finite mean and variance, the sampling distribution of the sample mean will approach a normal distribution regardless of the shape of the original population distribution.\n",
        "\n",
        "Mathematical expression:\n",
        "\n",
        "Let:\n",
        "- x1, x2,...xn be the random sample of the size n\n",
        "- Each with mean 𝜇 and standard deviation σ\n",
        "\n",
        "Then the sampling distribution of the sample mean x will be approximately:\n",
        "  \n",
        "  \n",
        "            X ∼ N ( μ, σ\\root n)\n",
        "\n",
        "Why Is the Central Limit Theorem Important?\n",
        "\n",
        "- Justifies the Use of the Normal Distribution\n",
        "- Foundation for Inferential Statistics: confidence intervals, hypothesis testing, estimating population parameters.\n",
        "- Enables Standardization Using Z-scores\n",
        "- Works for Any Distribution: The original population can be Uniform, skewed, Exponential or any shape.\n",
        "\n",
        "\n",
        "\n",
        "\n",
        "\n",
        "\n"
      ],
      "metadata": {
        "id": "S6DUiCn_A_2F"
      }
    },
    {
      "cell_type": "markdown",
      "source": [
        "*Question 7: What is the significance of confidence intervals in statistical analysis?*\n",
        "\n",
        "A confidence interval (CI) is a range of values, derived from a sample, that is used to estimate an unknown population parameter (such as the mean or proportion).\n",
        "\n",
        "It is typically expressed as:\n",
        "\n",
        "         Confidence Interval = Point Estimate ± Margin of Error\n",
        "\n",
        "For Example:\n",
        "\n",
        "Suppose a pharmaceutical company is testing a new pain relief drug. In a clinical trial with 200 patients, the average time for pain relief is found to be 30 minutes, with a 95% confidence interval of (28.5 minutes, 31.5 minutes).\n",
        "\n",
        "Interpretation:\n",
        "The company can say, with 95% confidence, that the true average pain relief time for all patients (not just the sample) lies between 28.5 and 31.5 minutes.\n",
        "\n",
        "Significance of Confidence Intervals in Statistical Analysis:\n",
        "\n",
        "- Estimation of Population Parameters\n",
        "- Measure of Precision\n",
        "- Expressing Uncertainty\n",
        "- Hypothesis Testing Tool\n",
        "- Supports Decision-Making"
      ],
      "metadata": {
        "id": "rPMNMyQcS438"
      }
    },
    {
      "cell_type": "markdown",
      "source": [
        "*Question 8: What is the concept of expected value in a probability distribution?*\n",
        "\n",
        "The expected value (also called the mean or mathematical expectation) of a random variable is the long-run average value of repetitions of the experiment it represents.\n",
        "\n",
        "It is denoted as:\n",
        "- E(X)\n",
        "- μ\n",
        "\n",
        "Expected value for discrete random variable:\n",
        "\n",
        "If random variable X can take values as x1,x2,.....xn with corresponding probabilities p(x1), p(x2),.......p(xn), then\n",
        "   \n",
        "                        E(X) = i=1∑n​ xi​.P(xi​)\n",
        "\n",
        "Applications of Expected Value:\n",
        "- Economics & Business\n",
        "- Insurance\n",
        "- Gambling and games\n",
        "- Decision-making"
      ],
      "metadata": {
        "id": "EcBAef7AXNzf"
      }
    },
    {
      "cell_type": "markdown",
      "source": [
        "Question 9: Write a Python program to generate 1000 random numbers from a normal\n",
        "distribution with mean= 50 and standard deviation = 5. Compute its mean and standard deviation using NumPy, and draw a histogram to visualize the distribution.\n",
        "\n",
        "(Include your Python code and output in the code box below.)"
      ],
      "metadata": {
        "id": "X1_cTipqf_AQ"
      }
    },
    {
      "cell_type": "code",
      "source": [
        "\n",
        "import numpy as np\n",
        "import matplotlib.pyplot as plt\n",
        "\n",
        "\n",
        "mean = 50\n",
        "std_dvtn = 5\n",
        "num_samples = 1000\n",
        "# genrating 1000 random numbers from normal distrubution\n",
        "data = np.random.normal(loc=mean, scale=std_dvtn, size=num_samples)\n",
        "\n",
        "# Compute the mean and standard deviation\n",
        "computed_mean = np.mean(data)\n",
        "computed_std = np.std(data)\n",
        "\n",
        "print(f\"Computed Mean: {computed_mean:.2f}\")\n",
        "print(f\"Computed Standard Deviation: {computed_std:.2f}\")\n",
        "\n",
        "# histogram\n",
        "plt.figure(figsize=(8, 5))\n",
        "plt.hist(data, bins=30, color='pink', edgecolor='black')\n",
        "plt.title(\"Histogram of Normally Distributed Data\")\n",
        "plt.xlabel(\"Value\")\n",
        "plt.ylabel(\"Frequency\")\n",
        "plt.grid(True)\n",
        "plt.show()"
      ],
      "metadata": {
        "colab": {
          "base_uri": "https://localhost:8080/",
          "height": 522
        },
        "id": "FI55Mj8Uz9Qr",
        "outputId": "efa390b9-0fa7-47a6-d1c4-9dc97cb6d937"
      },
      "execution_count": 1,
      "outputs": [
        {
          "output_type": "stream",
          "name": "stdout",
          "text": [
            "Computed Mean: 50.00\n",
            "Computed Standard Deviation: 4.94\n"
          ]
        },
        {
          "output_type": "display_data",
          "data": {
            "text/plain": [
              "<Figure size 800x500 with 1 Axes>"
            ],
            "image/png": "[encoded data removed]"
          },
          "metadata": {}
        }
      ]
    },
    {
      "cell_type": "markdown",
      "source": [
        "Question 10: You are working as a data analyst for a retail company. The company has collected daily sales data for 2 years and wants you to identify the overall sales trend.\n",
        "\n",
        "daily_sales = [220, 245, 210, 265, 230, 250, 260, 275, 240, 255,\n",
        "235, 260, 245, 250, 225, 270, 265, 255, 250, 260]\n",
        "\n",
        "● Explain how you would apply the Central Limit Theorem to estimate the average sales with a 95% confidence interval.\n",
        "\n",
        "● Write the Python code to compute the mean sales and its confidence interval.\n",
        "\n",
        "(Include your Python code and output in the code box below.)"
      ],
      "metadata": {
        "id": "m1sWUzWChqKj"
      }
    },
    {
      "cell_type": "code",
      "source": [
        "# In this case:\n",
        "# We have a sample of daily sales data from 20 days.\n",
        "# We'll treat this as a simple random sample from a larger population (2 years of sales).\n",
        "# Using CLT, we can compute a 95% confidence interval for the true average daily sales."
      ],
      "metadata": {
        "id": "cnZJp0_6f9s8"
      },
      "execution_count": null,
      "outputs": []
    },
    {
      "cell_type": "code",
      "source": [
        "import numpy as np\n",
        "import scipy.stats as stats\n",
        "\n",
        "daily_sales = [220, 245, 210, 265, 230, 250, 260, 275, 240, 255,\n",
        "               235, 260, 245, 250, 225, 270, 265, 255, 250, 260]\n",
        "\n",
        "# Convert to NumPy array\n",
        "sales_array = np.array(daily_sales)\n",
        "\n",
        "# Sample statistics\n",
        "sample_mean = np.mean(sales_array)\n",
        "sample_std = np.std(sales_array, ddof=1)\n",
        "n = len(sales_array)\n",
        "\n",
        "# Z-score for 95% confidence level is approx 1.96\n",
        "z_score = 1.96\n",
        "\n",
        "margin_of_error = z_score * (sample_std / np.sqrt(n))\n",
        "\n",
        "# Confidence Interval\n",
        "ci_lower = sample_mean - margin_of_error\n",
        "ci_upper = sample_mean + margin_of_error\n",
        "\n",
        "print(f\"Sample Mean: {sample_mean:.2f}\")\n",
        "print(f\"Sample Standard Deviation: {sample_std:.2f}\")\n",
        "print(f\"95% Confidence Interval: ({ci_lower:.2f}, {ci_upper:.2f})\")\n"
      ],
      "metadata": {
        "colab": {
          "base_uri": "https://localhost:8080/"
        },
        "id": "5kldQ1BXiyfM",
        "outputId": "babb5774-ff42-491a-f205-2fbbb9a48293"
      },
      "execution_count": 2,
      "outputs": [
        {
          "output_type": "stream",
          "name": "stdout",
          "text": [
            "Sample Mean: 248.25\n",
            "Sample Standard Deviation: 17.27\n",
            "95% Confidence Interval: (240.68, 255.82)\n"
          ]
        }
      ]
    },
    {
      "cell_type": "markdown",
      "source": [
        "# Thank you"
      ],
      "metadata": {
        "id": "89FPWPJhjKUo"
      }
    }
  ]
}